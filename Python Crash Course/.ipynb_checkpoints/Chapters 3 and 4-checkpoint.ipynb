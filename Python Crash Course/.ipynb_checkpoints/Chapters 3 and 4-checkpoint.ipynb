{
 "cells": [
  {
   "cell_type": "code",
   "execution_count": 73,
   "metadata": {},
   "outputs": [],
   "source": [
    "import numpy as np\n",
    "import pandas as pd"
   ]
  },
  {
   "cell_type": "markdown",
   "metadata": {},
   "source": [
    "## Chapter 3"
   ]
  },
  {
   "cell_type": "code",
   "execution_count": 14,
   "metadata": {},
   "outputs": [
    {
     "name": "stdout",
     "output_type": "stream",
     "text": [
      "Sima\n",
      "Gabe\n",
      "Juste\n"
     ]
    }
   ],
   "source": [
    "names = ['Sima', 'Gabe', 'Juste']\n",
    "print(names[0])\n",
    "print(names[1])\n",
    "print(names[2])"
   ]
  },
  {
   "cell_type": "code",
   "execution_count": 15,
   "metadata": {},
   "outputs": [
    {
     "name": "stdout",
     "output_type": "stream",
     "text": [
      "Sveika atvykusi i Praha, Sima!\n",
      "Sveika atvykusi i Praha, Gabe!\n",
      "Sveika atvykusi i Praha, Juste!\n"
     ]
    }
   ],
   "source": [
    "message = 'Sveika atvykusi i Praha, {}!'\n",
    "print(message.format(names[0]))\n",
    "print(message.format(names[1]))\n",
    "print(message.format(names[2]))"
   ]
  },
  {
   "cell_type": "code",
   "execution_count": 16,
   "metadata": {},
   "outputs": [
    {
     "name": "stdout",
     "output_type": "stream",
     "text": [
      "I would like to make a chocolate cake today.\n"
     ]
    }
   ],
   "source": [
    "recipies = ['pasta', 'pizza', 'chocolate cake']\n",
    "print(f'I would like to make a {recipies[2]} today.')"
   ]
  },
  {
   "cell_type": "code",
   "execution_count": 17,
   "metadata": {},
   "outputs": [
    {
     "name": "stdout",
     "output_type": "stream",
     "text": [
      "Oscar Wilde, please come to my party!\n",
      "Virginia Woolf, please come to my party!\n",
      "Bill Gates, please come to my party!\n"
     ]
    }
   ],
   "source": [
    "dinner_guests = ['Oscar Wilde', 'Virginia Woolf', 'Bill Gates']\n",
    "dinner_invitation = '{}, please come to my party!'\n",
    "print(dinner_invitation.format(dinner_guests[0]))\n",
    "print(dinner_invitation.format(dinner_guests[1]))\n",
    "print(dinner_invitation.format(dinner_guests[2]))"
   ]
  },
  {
   "cell_type": "code",
   "execution_count": 18,
   "metadata": {},
   "outputs": [
    {
     "name": "stdout",
     "output_type": "stream",
     "text": [
      "Bill Gates cannot come to the party.\n"
     ]
    }
   ],
   "source": [
    "cannot_come = dinner_guests[2]\n",
    "print(f'{cannot_come} cannot come to the party.')"
   ]
  },
  {
   "cell_type": "code",
   "execution_count": 19,
   "metadata": {},
   "outputs": [
    {
     "name": "stdout",
     "output_type": "stream",
     "text": [
      "Oscar Wilde, please come to my party!\n",
      "Virginia Woolf, please come to my party!\n",
      "Pocahontas, please come to my party!\n"
     ]
    }
   ],
   "source": [
    "dinner_guests[2] = 'Pocahontas'\n",
    "print(dinner_invitation.format(dinner_guests[0]))\n",
    "print(dinner_invitation.format(dinner_guests[1]))\n",
    "print(dinner_invitation.format(dinner_guests[2]))"
   ]
  },
  {
   "cell_type": "code",
   "execution_count": 20,
   "metadata": {},
   "outputs": [
    {
     "name": "stdout",
     "output_type": "stream",
     "text": [
      "Oscar Wilde, Virginia Woolf, Pocahontas, I found a bigger dinner table.\n"
     ]
    }
   ],
   "source": [
    "print(f'{dinner_guests[0]}, {dinner_guests[1]}, {dinner_guests[2]}, I found a bigger dinner table.')"
   ]
  },
  {
   "cell_type": "code",
   "execution_count": 21,
   "metadata": {},
   "outputs": [
    {
     "name": "stdout",
     "output_type": "stream",
     "text": [
      "Tilly, please come to my party!\n",
      "Oscar Wilde, please come to my party!\n",
      "Thanos, please come to my party!\n",
      "Virginia Woolf, please come to my party!\n",
      "Pocahontas, please come to my party!\n",
      "Iron Man, please come to my party!\n"
     ]
    }
   ],
   "source": [
    "dinner_guests.insert(0, 'Tilly')\n",
    "dinner_guests.insert(2, 'Thanos')\n",
    "dinner_guests.append('Iron Man')\n",
    "\n",
    "for guest in dinner_guests:\n",
    "    print(dinner_invitation.format(guest))"
   ]
  },
  {
   "cell_type": "code",
   "execution_count": 22,
   "metadata": {},
   "outputs": [
    {
     "name": "stdout",
     "output_type": "stream",
     "text": [
      "I can invite only 2 people for dinner.\n"
     ]
    }
   ],
   "source": [
    "print('I can invite only 2 people for dinner.')"
   ]
  },
  {
   "cell_type": "code",
   "execution_count": 23,
   "metadata": {},
   "outputs": [
    {
     "name": "stdout",
     "output_type": "stream",
     "text": [
      "I am sorry, Iron Man, but I have take my invitation back.\n",
      "I am sorry, Pocahontas, but I have take my invitation back.\n",
      "I am sorry, Virginia Woolf, but I have take my invitation back.\n",
      "I am sorry, Thanos, but I have take my invitation back.\n"
     ]
    }
   ],
   "source": [
    "while len(dinner_guests) > 2:\n",
    "    not_invited = dinner_guests.pop()\n",
    "    print(f'I am sorry, {not_invited}, but I have take my invitation back.')"
   ]
  },
  {
   "cell_type": "code",
   "execution_count": 24,
   "metadata": {},
   "outputs": [
    {
     "name": "stdout",
     "output_type": "stream",
     "text": [
      "Tilly, you are still invited!\n",
      "Oscar Wilde, you are still invited!\n"
     ]
    }
   ],
   "source": [
    "for guest in dinner_guests:\n",
    "    print(f'{guest}, you are still invited!')"
   ]
  },
  {
   "cell_type": "code",
   "execution_count": 25,
   "metadata": {},
   "outputs": [
    {
     "name": "stdout",
     "output_type": "stream",
     "text": [
      "[]\n"
     ]
    }
   ],
   "source": [
    "del dinner_guests[1]\n",
    "del dinner_guests[0]\n",
    "print(dinner_guests)"
   ]
  },
  {
   "cell_type": "code",
   "execution_count": 29,
   "metadata": {},
   "outputs": [
    {
     "name": "stdout",
     "output_type": "stream",
     "text": [
      "['Japan', 'Cuba', 'New Zealand', 'New York', 'Iceland'] \n",
      "\n",
      "['Cuba', 'Iceland', 'Japan', 'New York', 'New Zealand']\n",
      "['Japan', 'Cuba', 'New Zealand', 'New York', 'Iceland'] \n",
      "\n",
      "['New Zealand', 'New York', 'Japan', 'Iceland', 'Cuba']\n",
      "['Japan', 'Cuba', 'New Zealand', 'New York', 'Iceland'] \n",
      "\n",
      "['Iceland', 'New York', 'New Zealand', 'Cuba', 'Japan'] \n",
      "\n",
      "['Japan', 'Cuba', 'New Zealand', 'New York', 'Iceland'] \n",
      "\n",
      "['Cuba', 'Iceland', 'Japan', 'New York', 'New Zealand'] \n",
      "\n",
      "['New Zealand', 'New York', 'Japan', 'Iceland', 'Cuba'] \n",
      "\n"
     ]
    }
   ],
   "source": [
    "places_to_visit = ['Japan', 'Cuba', 'New Zealand', 'New York', 'Iceland']\n",
    "print(places_to_visit, '\\n')\n",
    "\n",
    "print(sorted(places_to_visit))\n",
    "print(places_to_visit, '\\n')\n",
    "\n",
    "print(sorted(places_to_visit, reverse=True))\n",
    "print(places_to_visit, '\\n')\n",
    "\n",
    "places_to_visit.reverse()\n",
    "print(places_to_visit, '\\n')\n",
    "\n",
    "places_to_visit.reverse()\n",
    "print(places_to_visit, '\\n')\n",
    "\n",
    "places_to_visit.sort()\n",
    "print(places_to_visit, '\\n')\n",
    "\n",
    "places_to_visit.sort(reverse=True)\n",
    "print(places_to_visit, '\\n')"
   ]
  },
  {
   "cell_type": "code",
   "execution_count": 30,
   "metadata": {},
   "outputs": [
    {
     "data": {
      "text/plain": [
       "5"
      ]
     },
     "execution_count": 30,
     "metadata": {},
     "output_type": "execute_result"
    }
   ],
   "source": [
    "len(places_to_visit)"
   ]
  },
  {
   "cell_type": "markdown",
   "metadata": {},
   "source": [
    "## Chapter 4"
   ]
  },
  {
   "cell_type": "code",
   "execution_count": 31,
   "metadata": {},
   "outputs": [
    {
     "name": "stdout",
     "output_type": "stream",
     "text": [
      "Calzone\n",
      "Vezuvijaus\n",
      "Roma\n"
     ]
    }
   ],
   "source": [
    "pizzas = ['calzone', 'vezuvijaus', 'roma']\n",
    "\n",
    "for pizza in pizzas:\n",
    "    print(pizza.title())"
   ]
  },
  {
   "cell_type": "code",
   "execution_count": 34,
   "metadata": {},
   "outputs": [
    {
     "name": "stdout",
     "output_type": "stream",
     "text": [
      "Calzone is the best pizza!\n",
      "Vezuvijaus is the best pizza!\n",
      "Roma is the best pizza!\n",
      "\n",
      "I like burgers more...\n"
     ]
    }
   ],
   "source": [
    "statement = '{} is the best pizza!'\n",
    "\n",
    "for pizza in pizzas:\n",
    "    print(statement.format(pizza.title()))\n",
    "    \n",
    "print('\\nI like burgers more...')"
   ]
  },
  {
   "cell_type": "code",
   "execution_count": 37,
   "metadata": {},
   "outputs": [
    {
     "name": "stdout",
     "output_type": "stream",
     "text": [
      "A dog has 4 legs.\n",
      "A cat has 4 legs.\n",
      "A hamster has 4 legs.\n",
      "\n",
      "All those animals are happy at home.\n"
     ]
    }
   ],
   "source": [
    "pets = ['dog', 'cat', 'hamster']\n",
    "pet_statement = 'A {} has 4 legs.'\n",
    "\n",
    "for pet in pets:\n",
    "    print(pet_statement.format(pet))\n",
    "    \n",
    "print('\\nAll those animals are happy at home.')"
   ]
  },
  {
   "cell_type": "code",
   "execution_count": 42,
   "metadata": {},
   "outputs": [
    {
     "name": "stdout",
     "output_type": "stream",
     "text": [
      "1 2 3 4 5 6 7 8 9 10 11 12 13 14 15 16 17 18 19 20 "
     ]
    }
   ],
   "source": [
    "for number in range(1, 21):\n",
    "    print(number, end=' ')"
   ]
  },
  {
   "cell_type": "code",
   "execution_count": null,
   "metadata": {},
   "outputs": [],
   "source": [
    "for number in range(1, 1000001):\n",
    "    print(number, end=' ')"
   ]
  },
  {
   "cell_type": "code",
   "execution_count": 43,
   "metadata": {},
   "outputs": [
    {
     "name": "stdout",
     "output_type": "stream",
     "text": [
      "1\n",
      "1000000\n",
      "500000500000\n"
     ]
    }
   ],
   "source": [
    "million_list = [x for x in range(1, 1000001)]\n",
    "\n",
    "print(min(million_list))\n",
    "print(max(million_list))\n",
    "print(sum(million_list))"
   ]
  },
  {
   "cell_type": "code",
   "execution_count": 45,
   "metadata": {},
   "outputs": [
    {
     "name": "stdout",
     "output_type": "stream",
     "text": [
      "1 3 5 7 9 11 13 15 17 19 "
     ]
    }
   ],
   "source": [
    "odd_numbers = range(1, 21, 2)\n",
    "\n",
    "for number in odd_numbers:\n",
    "    print(number, end=' ')"
   ]
  },
  {
   "cell_type": "code",
   "execution_count": 47,
   "metadata": {},
   "outputs": [
    {
     "name": "stdout",
     "output_type": "stream",
     "text": [
      "3 6 9 12 15 18 21 24 27 30 "
     ]
    }
   ],
   "source": [
    "multiples_of_3 = range(3, 31, 3)\n",
    "\n",
    "for multiple_of_3 in multiples_of_3:\n",
    "    print(multiple_of_3, end=' ')"
   ]
  },
  {
   "cell_type": "code",
   "execution_count": 48,
   "metadata": {},
   "outputs": [
    {
     "name": "stdout",
     "output_type": "stream",
     "text": [
      "1 8 27 64 125 216 343 512 729 1000 "
     ]
    }
   ],
   "source": [
    "cubes = [x**3 for x in range(1, 11)]\n",
    "\n",
    "for cube in cubes:\n",
    "    print(cube, end=' ')"
   ]
  },
  {
   "cell_type": "code",
   "execution_count": 51,
   "metadata": {},
   "outputs": [
    {
     "name": "stdout",
     "output_type": "stream",
     "text": [
      "The first three items in the list are:  [1, 8, 27]\n",
      "Three items from the middle of the list are:  [27, 64, 125]\n",
      "The last three items in the list are:  [512, 729, 1000]\n"
     ]
    }
   ],
   "source": [
    "print('The first three items in the list are: ', cubes[:3])\n",
    "print('Three items from the middle of the list are: ', cubes[2:5])\n",
    "print('The last three items in the list are: ', cubes[-3:])"
   ]
  },
  {
   "cell_type": "code",
   "execution_count": 53,
   "metadata": {},
   "outputs": [
    {
     "name": "stdout",
     "output_type": "stream",
     "text": [
      "My favorite pizzas are:\n",
      "Calzone\n",
      "Vezuvijaus\n",
      "Roma\n",
      "Margherita\n",
      "\n",
      "My friend's favorite pizzas are:\n",
      "Calzone\n",
      "Vezuvijaus\n",
      "Roma\n",
      "Napoli\n"
     ]
    }
   ],
   "source": [
    "friend_pizzas = pizzas[:]\n",
    "\n",
    "pizzas.append('Margherita')\n",
    "friend_pizzas.append('Napoli')\n",
    "\n",
    "print('My favorite pizzas are:')\n",
    "for pizza in pizzas:\n",
    "    print(pizza.title())\n",
    "\n",
    "print(\"\\nMy friend's favorite pizzas are:\")\n",
    "for pizza in friend_pizzas:\n",
    "    print(pizza.title())"
   ]
  },
  {
   "cell_type": "code",
   "execution_count": 55,
   "metadata": {},
   "outputs": [
    {
     "name": "stdout",
     "output_type": "stream",
     "text": [
      "The first three items in the list are: 1 8 27 \n",
      "Three items from the middle of the list are: 27 64 125 \n",
      "The last three items in the list are: 512 729 1000 "
     ]
    }
   ],
   "source": [
    "print('The first three items in the list are:', end=' ')\n",
    "for cube in cubes[:3]:\n",
    "    print(cube, end=' ')\n",
    "\n",
    "print('\\nThree items from the middle of the list are:', end=' ')\n",
    "for cube in cubes[2:5]:\n",
    "    print(cube, end=' ')\n",
    "\n",
    "print('\\nThe last three items in the list are:', end=' ')\n",
    "for cube in cubes[-3:]:\n",
    "    print(cube, end=' ')"
   ]
  },
  {
   "cell_type": "code",
   "execution_count": 56,
   "metadata": {},
   "outputs": [
    {
     "ename": "TypeError",
     "evalue": "'tuple' object does not support item assignment",
     "output_type": "error",
     "traceback": [
      "\u001b[1;31m---------------------------------------------------------------------------\u001b[0m",
      "\u001b[1;31mTypeError\u001b[0m                                 Traceback (most recent call last)",
      "\u001b[1;32m<ipython-input-56-b1560407767d>\u001b[0m in \u001b[0;36m<module>\u001b[1;34m\u001b[0m\n\u001b[0;32m      1\u001b[0m \u001b[0mfoods_tuple\u001b[0m \u001b[1;33m=\u001b[0m \u001b[1;33m(\u001b[0m\u001b[1;34m'potatoes'\u001b[0m\u001b[1;33m,\u001b[0m \u001b[1;34m'steak'\u001b[0m\u001b[1;33m,\u001b[0m \u001b[1;34m'cucumbers'\u001b[0m\u001b[1;33m,\u001b[0m \u001b[1;34m'tomatoes'\u001b[0m\u001b[1;33m,\u001b[0m \u001b[1;34m'tatarka'\u001b[0m\u001b[1;33m)\u001b[0m\u001b[1;33m\u001b[0m\u001b[1;33m\u001b[0m\u001b[0m\n\u001b[1;32m----> 2\u001b[1;33m \u001b[0mfoods_tuple\u001b[0m\u001b[1;33m[\u001b[0m\u001b[1;36m2\u001b[0m\u001b[1;33m]\u001b[0m \u001b[1;33m=\u001b[0m \u001b[1;34m'tomatoes'\u001b[0m\u001b[1;33m\u001b[0m\u001b[1;33m\u001b[0m\u001b[0m\n\u001b[0m",
      "\u001b[1;31mTypeError\u001b[0m: 'tuple' object does not support item assignment"
     ]
    }
   ],
   "source": [
    "foods_tuple = ('potatoes', 'steak', 'cucumbers', 'tomatoes', 'tatarka')\n",
    "foods_tuple[2] = 'tomatoes'"
   ]
  },
  {
   "cell_type": "code",
   "execution_count": 58,
   "metadata": {},
   "outputs": [
    {
     "name": "stdout",
     "output_type": "stream",
     "text": [
      "bulgur\n",
      "fried cheese\n",
      "cucumbers\n",
      "tomatoes\n",
      "tatarka\n"
     ]
    }
   ],
   "source": [
    "foods_tuple = ('bulgur', 'fried cheese', 'cucumbers', 'tomatoes', 'tatarka')\n",
    "\n",
    "for food in foods_tuple:\n",
    "    print(food)"
   ]
  },
  {
   "cell_type": "markdown",
   "metadata": {},
   "source": [
    "## To show additionally"
   ]
  },
  {
   "cell_type": "markdown",
   "metadata": {},
   "source": [
    "List comprehensions with condition"
   ]
  },
  {
   "cell_type": "code",
   "execution_count": 62,
   "metadata": {},
   "outputs": [
    {
     "data": {
      "text/plain": [
       "[4, 16, 36, 64, 100]"
      ]
     },
     "execution_count": 62,
     "metadata": {},
     "output_type": "execute_result"
    }
   ],
   "source": [
    "[x**2 for x in range(1, 11) if (x % 2)==0]"
   ]
  },
  {
   "cell_type": "code",
   "execution_count": 64,
   "metadata": {},
   "outputs": [
    {
     "data": {
      "text/plain": [
       "[0, 4, 0, 16, 0, 36, 0, 64, 0, 100]"
      ]
     },
     "execution_count": 64,
     "metadata": {},
     "output_type": "execute_result"
    }
   ],
   "source": [
    "[x**2 if (x % 2)==0 else 0 for x in range(1, 11)]"
   ]
  },
  {
   "cell_type": "code",
   "execution_count": 74,
   "metadata": {},
   "outputs": [
    {
     "data": {
      "text/html": [
       "<div>\n",
       "<style scoped>\n",
       "    .dataframe tbody tr th:only-of-type {\n",
       "        vertical-align: middle;\n",
       "    }\n",
       "\n",
       "    .dataframe tbody tr th {\n",
       "        vertical-align: top;\n",
       "    }\n",
       "\n",
       "    .dataframe thead th {\n",
       "        text-align: right;\n",
       "    }\n",
       "</style>\n",
       "<table border=\"1\" class=\"dataframe\">\n",
       "  <thead>\n",
       "    <tr style=\"text-align: right;\">\n",
       "      <th></th>\n",
       "      <th>a</th>\n",
       "      <th>b</th>\n",
       "    </tr>\n",
       "  </thead>\n",
       "  <tbody>\n",
       "    <tr>\n",
       "      <th>0</th>\n",
       "      <td>1.0</td>\n",
       "      <td>1</td>\n",
       "    </tr>\n",
       "    <tr>\n",
       "      <th>1</th>\n",
       "      <td>2.0</td>\n",
       "      <td>2</td>\n",
       "    </tr>\n",
       "    <tr>\n",
       "      <th>2</th>\n",
       "      <td>NaN</td>\n",
       "      <td>3</td>\n",
       "    </tr>\n",
       "  </tbody>\n",
       "</table>\n",
       "</div>"
      ],
      "text/plain": [
       "     a  b\n",
       "0  1.0  1\n",
       "1  2.0  2\n",
       "2  NaN  3"
      ]
     },
     "execution_count": 74,
     "metadata": {},
     "output_type": "execute_result"
    }
   ],
   "source": [
    "data_set = pd.DataFrame({'a':[1, 2, np.nan], 'b': [1, 2, 3]})\n",
    "data_set"
   ]
  },
  {
   "cell_type": "code",
   "execution_count": 79,
   "metadata": {},
   "outputs": [
    {
     "data": {
      "text/html": [
       "<div>\n",
       "<style scoped>\n",
       "    .dataframe tbody tr th:only-of-type {\n",
       "        vertical-align: middle;\n",
       "    }\n",
       "\n",
       "    .dataframe tbody tr th {\n",
       "        vertical-align: top;\n",
       "    }\n",
       "\n",
       "    .dataframe thead th {\n",
       "        text-align: right;\n",
       "    }\n",
       "</style>\n",
       "<table border=\"1\" class=\"dataframe\">\n",
       "  <thead>\n",
       "    <tr style=\"text-align: right;\">\n",
       "      <th></th>\n",
       "      <th>a</th>\n",
       "      <th>b</th>\n",
       "    </tr>\n",
       "  </thead>\n",
       "  <tbody>\n",
       "    <tr>\n",
       "      <th>0</th>\n",
       "      <td>1.0</td>\n",
       "      <td>1</td>\n",
       "    </tr>\n",
       "    <tr>\n",
       "      <th>1</th>\n",
       "      <td>2.0</td>\n",
       "      <td>2</td>\n",
       "    </tr>\n",
       "    <tr>\n",
       "      <th>2</th>\n",
       "      <td>0.0</td>\n",
       "      <td>3</td>\n",
       "    </tr>\n",
       "  </tbody>\n",
       "</table>\n",
       "</div>"
      ],
      "text/plain": [
       "     a  b\n",
       "0  1.0  1\n",
       "1  2.0  2\n",
       "2  0.0  3"
      ]
     },
     "execution_count": 79,
     "metadata": {},
     "output_type": "execute_result"
    }
   ],
   "source": [
    "data_set['a'] = [x if not np.isnan(x) else 0 for x in data_set['a']]\n",
    "data_set"
   ]
  },
  {
   "cell_type": "markdown",
   "metadata": {},
   "source": [
    "Dictionary comprehensions + tuples"
   ]
  },
  {
   "cell_type": "code",
   "execution_count": 67,
   "metadata": {},
   "outputs": [
    {
     "data": {
      "text/plain": [
       "{'a': 1, 'b': 2, 'c': 3}"
      ]
     },
     "execution_count": 67,
     "metadata": {},
     "output_type": "execute_result"
    }
   ],
   "source": [
    "a = [1, 2, 3]\n",
    "b = ['a', 'b', 'c']\n",
    "{b: a for a, b in zip(a, b)}"
   ]
  },
  {
   "cell_type": "code",
   "execution_count": 68,
   "metadata": {},
   "outputs": [
    {
     "data": {
      "text/plain": [
       "{0: 'a', 1: 'b', 2: 'c'}"
      ]
     },
     "execution_count": 68,
     "metadata": {},
     "output_type": "execute_result"
    }
   ],
   "source": [
    "{index: value for index, value in enumerate(b)}"
   ]
  },
  {
   "cell_type": "markdown",
   "metadata": {},
   "source": [
    "Tuples use in functions"
   ]
  },
  {
   "cell_type": "code",
   "execution_count": 71,
   "metadata": {},
   "outputs": [
    {
     "name": "stdout",
     "output_type": "stream",
     "text": [
      "\n",
      "Mean:  23.8 \n",
      "Median:  5.0\n"
     ]
    }
   ],
   "source": [
    "def mean_and_median(list_numbers):\n",
    "    mean = np.mean(list_numbers)\n",
    "    median = np.median(list_numbers)\n",
    "    \n",
    "    return mean, median\n",
    "\n",
    "list_numbers = [1, 11, 100, 2, 5]\n",
    "mean, median = mean_and_median(list_numbers)\n",
    "print('\\nMean: ', mean, '\\nMedian: ', median)"
   ]
  }
 ],
 "metadata": {
  "kernelspec": {
   "display_name": "Python 3",
   "language": "python",
   "name": "python3"
  },
  "language_info": {
   "codemirror_mode": {
    "name": "ipython",
    "version": 3
   },
   "file_extension": ".py",
   "mimetype": "text/x-python",
   "name": "python",
   "nbconvert_exporter": "python",
   "pygments_lexer": "ipython3",
   "version": "3.6.10"
  }
 },
 "nbformat": 4,
 "nbformat_minor": 4
}
