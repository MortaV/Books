{
 "cells": [
  {
   "cell_type": "code",
   "execution_count": 4,
   "metadata": {},
   "outputs": [
    {
     "name": "stdout",
     "output_type": "stream",
     "text": [
      "My restaurant\n",
      "Chinese\n",
      "The name of the restaurant is \"My restaurant\". It is a Chinese cuisine.\n",
      "\"My Restaurant\" is open!\n"
     ]
    }
   ],
   "source": [
    "class Restaurant():\n",
    "    \n",
    "    def __init__(self, restaurant_name, cuisine_type):\n",
    "        self.restaurant_name = restaurant_name\n",
    "        self.cuisine_type = cuisine_type\n",
    "        \n",
    "    def describe_restaurant(self):\n",
    "        print(f'The name of the restaurant is \"{self.restaurant_name}\". It is a {self.cuisine_type} cuisine.')\n",
    "        \n",
    "    def open_restaurant(self):\n",
    "        print(f'\"{self.restaurant_name.title()}\" is open!')\n",
    "        \n",
    "restaurant = Restaurant('My restaurant', 'Chinese')\n",
    "print(restaurant.restaurant_name)\n",
    "print(restaurant.cuisine_type)\n",
    "\n",
    "restaurant.describe_restaurant()\n",
    "restaurant.open_restaurant()"
   ]
  },
  {
   "cell_type": "code",
   "execution_count": 5,
   "metadata": {},
   "outputs": [
    {
     "name": "stdout",
     "output_type": "stream",
     "text": [
      "The name of the restaurant is \"Viola\". It is a french cuisine.\n",
      "The name of the restaurant is \"Burito Loco\". It is a mexican cuisine.\n",
      "The name of the restaurant is \"Dragon\". It is a chinese cuisine.\n"
     ]
    }
   ],
   "source": [
    "restaurant_one = Restaurant('Viola', 'french')\n",
    "restaurant_two = Restaurant('Burito Loco', 'mexican')\n",
    "restaurant_three = Restaurant('Dragon', 'chinese')\n",
    "\n",
    "restaurant_one.describe_restaurant()\n",
    "restaurant_two.describe_restaurant()\n",
    "restaurant_three.describe_restaurant()"
   ]
  },
  {
   "cell_type": "code",
   "execution_count": 11,
   "metadata": {},
   "outputs": [
    {
     "name": "stdout",
     "output_type": "stream",
     "text": [
      "The person is Maria Marinovich. She is 1.8 metres tall and weights 67 kg.\n",
      "Hello, Maria Marinovich!\n"
     ]
    }
   ],
   "source": [
    "class User:\n",
    "    \n",
    "    def __init__(self, first_name, last_name, height, weight, she_he):\n",
    "        self.first_name = first_name\n",
    "        self.last_name = last_name\n",
    "        self.height = height\n",
    "        self.weight = weight\n",
    "        self.she_he = she_he\n",
    "        \n",
    "    def describe(self):\n",
    "        description = f'The person is {self.first_name.title()} {self.last_name.title()}. '\n",
    "        description += f'{self.she_he.title()} is {self.height} metres tall and weights {self.weight} kg.'\n",
    "        print(description)\n",
    "        \n",
    "    def greet_user(self):\n",
    "        print(f'Hello, {self.first_name.title()} {self.last_name.title()}!')\n",
    "              \n",
    "user_1 = User('maria', 'marinovich', 1.8, 67, 'she')\n",
    "user_1.describe()\n",
    "user_1.greet_user()"
   ]
  },
  {
   "cell_type": "code",
   "execution_count": 14,
   "metadata": {},
   "outputs": [
    {
     "name": "stdout",
     "output_type": "stream",
     "text": [
      "0\n",
      "10\n",
      "12\n"
     ]
    }
   ],
   "source": [
    "class Restaurant():\n",
    "    \n",
    "    def __init__(self, restaurant_name, cuisine_type):\n",
    "        self.restaurant_name = restaurant_name\n",
    "        self.cuisine_type = cuisine_type\n",
    "        self.number_served = 0\n",
    "        \n",
    "    def describe_restaurant(self):\n",
    "        print(f'The name of the restaurant is \"{self.restaurant_name}\". It is a {self.cuisine_type} cuisine.')\n",
    "        \n",
    "    def open_restaurant(self):\n",
    "        print(f'\"{self.restaurant_name.title()}\" is open!')\n",
    "        \n",
    "    def set_number_served(self, number_served):\n",
    "        self.number_served = number_served\n",
    "        \n",
    "    def increment_number_served(self, number_served):\n",
    "        self.number_served += number_served\n",
    "        \n",
    "restaurant = Restaurant('My restaurant', 'Chinese')\n",
    "print(restaurant.number_served)\n",
    "restaurant.set_number_served(10)\n",
    "print(restaurant.number_served)\n",
    "restaurant.increment_number_served(2)\n",
    "print(restaurant.number_served)"
   ]
  },
  {
   "cell_type": "code",
   "execution_count": 16,
   "metadata": {},
   "outputs": [
    {
     "name": "stdout",
     "output_type": "stream",
     "text": [
      "0\n",
      "3\n",
      "0\n"
     ]
    }
   ],
   "source": [
    "class User:\n",
    "    \n",
    "    def __init__(self, first_name, last_name, height, weight, she_he):\n",
    "        self.first_name = first_name\n",
    "        self.last_name = last_name\n",
    "        self.height = height\n",
    "        self.weight = weight\n",
    "        self.she_he = she_he\n",
    "        self.login_attempts = 0\n",
    "        \n",
    "    def describe(self):\n",
    "        description = f'The person is {self.first_name.title()} {self.last_name.title()}. '\n",
    "        description += f'{self.she_he.title()} is {self.height} metres tall and weights {self.weight} kg.'\n",
    "        print(description)\n",
    "        \n",
    "    def greet_user(self):\n",
    "        print(f'Hello, {self.first_name.title()} {self.last_name.title()}!')\n",
    "        \n",
    "    def increment_login_attempts(self):\n",
    "        self.login_attempts += 1\n",
    "        \n",
    "    def reset_login_attempts(self):\n",
    "        self.login_attempts = 0\n",
    "              \n",
    "user_1 = User('maria', 'marinovich', 1.8, 67, 'she')\n",
    "\n",
    "print(user_1.login_attempts)\n",
    "user_1.increment_login_attempts()\n",
    "user_1.increment_login_attempts()\n",
    "user_1.increment_login_attempts()\n",
    "print(user_1.login_attempts)\n",
    "user_1.reset_login_attempts()\n",
    "print(user_1.login_attempts)"
   ]
  },
  {
   "cell_type": "code",
   "execution_count": 18,
   "metadata": {},
   "outputs": [
    {
     "name": "stdout",
     "output_type": "stream",
     "text": [
      "Available flavors in the \"Bubbles\":\n",
      "- chocolate\n",
      "- banana\n",
      "- strawberry\n"
     ]
    }
   ],
   "source": [
    "class IceCreamStand(Restaurant):\n",
    "    \n",
    "    def __init__(self, restaurant_name, cuisine_type, flavors):\n",
    "        super().__init__(restaurant_name, cuisine_type)\n",
    "        self.flavors = flavors\n",
    "        \n",
    "    def display_flavors(self):\n",
    "        print(f'Available flavors in the \"{self.restaurant_name}\":')\n",
    "        for flavor in self.flavors:\n",
    "            print(f'- {flavor}')\n",
    "            \n",
    "restaurant_2 = IceCreamStand('Bubbles', 'italian', ['chocolate', 'banana', 'strawberry'])\n",
    "restaurant_2.display_flavors()        \n",
    "    "
   ]
  },
  {
   "cell_type": "code",
   "execution_count": 20,
   "metadata": {},
   "outputs": [
    {
     "name": "stdout",
     "output_type": "stream",
     "text": [
      "Available privileges for the user \"Maria\":\n",
      "- read\n",
      "- write\n",
      "- copy\n"
     ]
    }
   ],
   "source": [
    "class Admin(User):\n",
    "    \n",
    "    def __init__(self, first_name, last_name, height, weight, she_he, privileges):\n",
    "        super().__init__(first_name, last_name, height, weight, she_he)\n",
    "        self.privileges = privileges\n",
    "        \n",
    "    def show_privileges(self):\n",
    "        print(f'Available privileges for the user \"{self.first_name.title()}\":')\n",
    "        for privilege in self.privileges:\n",
    "            print(f'- {privilege}')\n",
    "            \n",
    "user_2 = Admin('maria', 'marinovich', 1.8, 67, 'she', ['read', 'write', 'copy'])\n",
    "user_2.show_privileges()"
   ]
  },
  {
   "cell_type": "code",
   "execution_count": 22,
   "metadata": {},
   "outputs": [
    {
     "name": "stdout",
     "output_type": "stream",
     "text": [
      "- read\n",
      "- write\n",
      "- copy\n"
     ]
    }
   ],
   "source": [
    "class Privileges:\n",
    "    \n",
    "    def __init__(self, privileges):\n",
    "        self.privileges = privileges\n",
    "        \n",
    "    def show_privileges(self):\n",
    "        for privilege in self.privileges:\n",
    "            print(f'- {privilege}')\n",
    "            \n",
    "class Admin(User):\n",
    "    \n",
    "    def __init__(self, first_name, last_name, height, weight, she_he, privileges):\n",
    "        super().__init__(first_name, last_name, height, weight, she_he)\n",
    "        self.privileges = Privileges(privileges)\n",
    "        \n",
    "    def show_privileges(self):\n",
    "        print(f'Available privileges for the user \"{self.first_name.title()}\":')\n",
    "        for privilege in self.privileges:\n",
    "            print(f'- {privilege}')\n",
    "            \n",
    "user_3 = Admin('maria', 'marinovich', 1.8, 67, 'she', ['read', 'write', 'copy'])\n",
    "user_3.privileges.show_privileges()"
   ]
  },
  {
   "cell_type": "code",
   "execution_count": 31,
   "metadata": {},
   "outputs": [
    {
     "name": "stdout",
     "output_type": "stream",
     "text": [
      "[3, 4, 5, 1, 6, 3, 5, 6, 4, 6]\n",
      "[3, 7, 10, 5, 8, 10, 3, 5, 3, 1]\n",
      "[15, 20, 19, 14, 3, 13, 13, 6, 10, 6]\n"
     ]
    }
   ],
   "source": [
    "from random import randint\n",
    "\n",
    "class Die:\n",
    "    \n",
    "    def __init__(self, sides):\n",
    "        self.sides = sides\n",
    "        \n",
    "    def roll_die(self):\n",
    "        return randint(1, self.sides)\n",
    "        \n",
    "die_6 = Die(6)\n",
    "die_10 = Die(10)\n",
    "die_20 = Die(20)\n",
    "\n",
    "def roll_die_times(die, times):\n",
    "    results = []\n",
    "    for i in range(times):\n",
    "        results.append(die.roll_die())\n",
    "        \n",
    "    return results\n",
    "\n",
    "print(roll_die_times(die_6, 10))\n",
    "print(roll_die_times(die_10, 10))\n",
    "print(roll_die_times(die_20, 10))"
   ]
  },
  {
   "cell_type": "code",
   "execution_count": 32,
   "metadata": {},
   "outputs": [
    {
     "name": "stdout",
     "output_type": "stream",
     "text": [
      "[2, 'c', 'a', 'b']\n"
     ]
    }
   ],
   "source": [
    "from random import choice\n",
    "\n",
    "list_of_numbers_letters = [1, 2, 3, 4, 5, 6, 7, 8, 9, 0, 'a', 'b', 'c', 'd']\n",
    "\n",
    "my_ticket = []\n",
    "for i in range(4):\n",
    "    my_ticket.append(choice(list_of_numbers_letters))\n",
    "\n",
    "print(my_ticket)"
   ]
  },
  {
   "cell_type": "code",
   "execution_count": 34,
   "metadata": {},
   "outputs": [
    {
     "name": "stdout",
     "output_type": "stream",
     "text": [
      "91782\n"
     ]
    }
   ],
   "source": [
    "new_ticket = []\n",
    "tries = 0\n",
    "\n",
    "while new_ticket != my_ticket:\n",
    "    new_ticket = []\n",
    "    for i in range(4):\n",
    "        new_ticket.append(choice(list_of_numbers_letters))\n",
    "    tries += 1\n",
    "\n",
    "print(tries)"
   ]
  },
  {
   "cell_type": "markdown",
   "metadata": {},
   "source": [
    "## Chapter 10"
   ]
  },
  {
   "cell_type": "code",
   "execution_count": 35,
   "metadata": {},
   "outputs": [
    {
     "name": "stdout",
     "output_type": "stream",
     "text": [
      "In Python you can write functions.\n",
      "In Python you can create classes.\n",
      "In Python you can use methods.\n"
     ]
    }
   ],
   "source": [
    "with open('learning_python.txt') as file_object:\n",
    "    contents = file_object.read()\n",
    "    print(contents)"
   ]
  },
  {
   "cell_type": "code",
   "execution_count": 37,
   "metadata": {},
   "outputs": [
    {
     "name": "stdout",
     "output_type": "stream",
     "text": [
      "In Python you can write functions.\n",
      "\n",
      "In Python you can create classes.\n",
      "\n",
      "In Python you can use methods.\n"
     ]
    }
   ],
   "source": [
    "with open('learning_python.txt') as file_object:\n",
    "    for line in file_object:\n",
    "        print(line)"
   ]
  },
  {
   "cell_type": "code",
   "execution_count": 39,
   "metadata": {},
   "outputs": [
    {
     "name": "stdout",
     "output_type": "stream",
     "text": [
      "In Python you can write functions.\n",
      "\n",
      "In Python you can create classes.\n",
      "\n",
      "In Python you can use methods.\n"
     ]
    }
   ],
   "source": [
    "with open('learning_python.txt') as file_object:\n",
    "    lines = file_object.readlines()\n",
    "for line in lines:\n",
    "    print(line)"
   ]
  },
  {
   "cell_type": "code",
   "execution_count": 40,
   "metadata": {},
   "outputs": [
    {
     "name": "stdout",
     "output_type": "stream",
     "text": [
      "In R you can write functions.\n",
      "\n",
      "In R you can create classes.\n",
      "\n",
      "In R you can use methods.\n"
     ]
    }
   ],
   "source": [
    "with open('learning_python.txt') as file_object:\n",
    "    for line in file_object:\n",
    "        line = line.replace('Python', 'R')\n",
    "        print(line)"
   ]
  },
  {
   "cell_type": "code",
   "execution_count": null,
   "metadata": {},
   "outputs": [],
   "source": [
    "prompt = 'Please provide your name:'\n",
    "prompt += '\\n(write \"quit\" to exit)'\n",
    "\n",
    "with open('names.txt', 'a') as file_object:\n",
    "    while True:\n",
    "        name = input(prompt)\n",
    "        if name == 'quit':\n",
    "            break\n",
    "        else:\n",
    "            file_object.write(name.title()+'\\n')"
   ]
  },
  {
   "cell_type": "code",
   "execution_count": null,
   "metadata": {},
   "outputs": [],
   "source": [
    "prompt = 'Please provide your name:'\n",
    "prompt += '\\n(write \"quit\" to exit)'\n",
    "\n",
    "with open('guest_book.txt', 'a') as file_object:\n",
    "    while True:\n",
    "        name = input(prompt)\n",
    "        if name == 'quit':\n",
    "            break\n",
    "        else:\n",
    "            file_object.write(name.title()+'\\n')\n",
    "            print(f'Hello, {name.title()}!')"
   ]
  },
  {
   "cell_type": "code",
   "execution_count": null,
   "metadata": {},
   "outputs": [],
   "source": [
    "prompt = 'Why do you like Python?'\n",
    "prompt += '\\n(write \"quit\" to exit)'\n",
    "\n",
    "with open('reasons_to_like_Python.txt', 'a') as file_object:\n",
    "    while True:\n",
    "        reason = input(prompt)\n",
    "        if name == 'quit':\n",
    "            break\n",
    "        else:\n",
    "            file_object.write(reason+'\\n')"
   ]
  },
  {
   "cell_type": "code",
   "execution_count": null,
   "metadata": {},
   "outputs": [],
   "source": [
    "prompt = 'Please provide number one:'\n",
    "number_one = input(prompt)\n",
    "\n",
    "prompt = 'Please provide number two:'\n",
    "number_two = input(prompt)\n",
    "\n",
    "try:\n",
    "    number_one = int(number_one)\n",
    "    number_two = int(number_two)\n",
    "except ValueError:\n",
    "    print('Please provide numbers instead of strings.')\n",
    "else:\n",
    "    print(number_one + number_two)"
   ]
  },
  {
   "cell_type": "code",
   "execution_count": null,
   "metadata": {},
   "outputs": [],
   "source": [
    "numbers = 0\n",
    "sum_numbers = 0\n",
    "\n",
    "while numbers != 2:\n",
    "    prompt = 'Please provide a number:'\n",
    "    number = input(prompt)\n",
    "\n",
    "    try:\n",
    "        number = int(number)\n",
    "    except ValueError:\n",
    "        print('Please provide numbers instead of strings.')\n",
    "    else:\n",
    "        sum_numbers += number\n",
    "        numbers += 1\n",
    "        \n",
    "print(f'Sum of your numbers: {sum_numbers}')"
   ]
  },
  {
   "cell_type": "code",
   "execution_count": 47,
   "metadata": {},
   "outputs": [
    {
     "name": "stdout",
     "output_type": "stream",
     "text": [
      "\n",
      "CATSY.TXT:\n",
      "The catsy.txt is not in the directory.\n",
      "\n",
      "DOGS.TXT:\n",
      "Brisius\n",
      "Reksas\n",
      "Iksas\n"
     ]
    }
   ],
   "source": [
    "files_list = ['catsy.txt', 'dogs.txt']\n",
    "\n",
    "def read_print(file_name):\n",
    "    try:\n",
    "        with open(file_name, 'r') as file_object:\n",
    "            contents = file_object.read()\n",
    "    except FileNotFoundError:\n",
    "        print(f'The {file_name} is not in the directory.')\n",
    "    else:\n",
    "        print(contents.title())\n",
    "        \n",
    "for file in files_list:\n",
    "    print('\\n', file.upper(), ':', sep='')\n",
    "    read_print(file)"
   ]
  },
  {
   "cell_type": "code",
   "execution_count": 49,
   "metadata": {},
   "outputs": [
    {
     "name": "stdout",
     "output_type": "stream",
     "text": [
      "\n",
      "DOGS.TXT:\n",
      "Brisius\n",
      "Reksas\n",
      "Iksas\n"
     ]
    }
   ],
   "source": [
    "files_list = ['catsy.txt', 'dogs.txt']\n",
    "\n",
    "def read_print(file_name):\n",
    "    try:\n",
    "        with open(file_name, 'r') as file_object:\n",
    "            contents = file_object.read()\n",
    "    except FileNotFoundError:\n",
    "        pass\n",
    "    else:\n",
    "        print('\\n', file.upper(), ':', sep='')\n",
    "        print(contents.title())\n",
    "        \n",
    "for file in files_list:\n",
    "    read_print(file)"
   ]
  },
  {
   "cell_type": "code",
   "execution_count": null,
   "metadata": {},
   "outputs": [],
   "source": []
  }
 ],
 "metadata": {
  "kernelspec": {
   "display_name": "Python 3",
   "language": "python",
   "name": "python3"
  },
  "language_info": {
   "codemirror_mode": {
    "name": "ipython",
    "version": 3
   },
   "file_extension": ".py",
   "mimetype": "text/x-python",
   "name": "python",
   "nbconvert_exporter": "python",
   "pygments_lexer": "ipython3",
   "version": "3.7.4"
  }
 },
 "nbformat": 4,
 "nbformat_minor": 4
}
