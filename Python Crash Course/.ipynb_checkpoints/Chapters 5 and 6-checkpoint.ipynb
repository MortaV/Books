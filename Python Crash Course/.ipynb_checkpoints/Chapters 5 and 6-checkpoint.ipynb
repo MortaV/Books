{
 "cells": [
  {
   "cell_type": "markdown",
   "metadata": {},
   "source": [
    "## Chapter 5"
   ]
  },
  {
   "cell_type": "code",
   "execution_count": 1,
   "metadata": {},
   "outputs": [
    {
     "name": "stdout",
     "output_type": "stream",
     "text": [
      "False\n",
      "True\n"
     ]
    }
   ],
   "source": [
    "color = 'red'\n",
    "print(color == 'green')\n",
    "print(color == 'red')"
   ]
  },
  {
   "cell_type": "code",
   "execution_count": 2,
   "metadata": {},
   "outputs": [
    {
     "name": "stdout",
     "output_type": "stream",
     "text": [
      "True\n"
     ]
    }
   ],
   "source": [
    "name = 'Rebecca'\n",
    "print(name.lower()=='rebecca')"
   ]
  },
  {
   "cell_type": "code",
   "execution_count": 6,
   "metadata": {},
   "outputs": [
    {
     "name": "stdout",
     "output_type": "stream",
     "text": [
      "True\n",
      "False\n",
      "True\n",
      "False\n"
     ]
    }
   ],
   "source": [
    "number = 15\n",
    "print(number>10 and number<20)\n",
    "print(number>20 or number<1)\n",
    "print(number in [1, 3, 15])\n",
    "print(number not in [1, 3, 15])"
   ]
  },
  {
   "cell_type": "code",
   "execution_count": 8,
   "metadata": {},
   "outputs": [],
   "source": [
    "alien_color = 'red'\n",
    "\n",
    "if alien_color == 'green':\n",
    "    print(\"You earned 5 points\")"
   ]
  },
  {
   "cell_type": "code",
   "execution_count": 9,
   "metadata": {},
   "outputs": [
    {
     "name": "stdout",
     "output_type": "stream",
     "text": [
      "You earned 5 points\n"
     ]
    }
   ],
   "source": [
    "alien_color = 'green'\n",
    "\n",
    "if alien_color == 'green':\n",
    "    print(\"You earned 5 points\")"
   ]
  },
  {
   "cell_type": "code",
   "execution_count": 11,
   "metadata": {},
   "outputs": [
    {
     "name": "stdout",
     "output_type": "stream",
     "text": [
      "You won 5 points\n"
     ]
    }
   ],
   "source": [
    "alien_color = 'green'\n",
    "\n",
    "if alien_color == 'green':\n",
    "    print('You won 5 points')\n",
    "elif alien_color == 'yellow':\n",
    "    print('You won 10 points')\n",
    "elif alien_color == 'red':\n",
    "    print('You won 15 points')"
   ]
  },
  {
   "cell_type": "code",
   "execution_count": 14,
   "metadata": {},
   "outputs": [
    {
     "name": "stdout",
     "output_type": "stream",
     "text": [
      "A person is an adult\n"
     ]
    }
   ],
   "source": [
    "age = 54\n",
    "message = 'A person is {}'\n",
    "\n",
    "if age < 2:\n",
    "    person = 'a baby'\n",
    "elif age < 4:\n",
    "    person = 'a toddler'\n",
    "elif age < 13:\n",
    "    person = 'a kid'\n",
    "elif age < 20:\n",
    "    person = 'a teenager'\n",
    "elif age < 65:\n",
    "    person = 'an adult'\n",
    "else:\n",
    "    person = 'an elder'\n",
    "\n",
    "print(message.format(person))"
   ]
  },
  {
   "cell_type": "code",
   "execution_count": 15,
   "metadata": {},
   "outputs": [
    {
     "name": "stdout",
     "output_type": "stream",
     "text": [
      "You really like bananas!\n"
     ]
    }
   ],
   "source": [
    "favorite_fruits = ['banana', 'strawberry', 'apple']\n",
    "\n",
    "if 'banana' in favorite_fruits:\n",
    "    print('You really like bananas!')"
   ]
  },
  {
   "cell_type": "code",
   "execution_count": 16,
   "metadata": {},
   "outputs": [
    {
     "name": "stdout",
     "output_type": "stream",
     "text": [
      "Welcome, John!\n",
      "Welcome, Maria!\n",
      "Welcome, admin, do you have your special pass?\n",
      "Welcome, Rosa!\n",
      "Welcome, Peter!\n"
     ]
    }
   ],
   "source": [
    "users = ['John', 'Maria', 'admin', 'Rosa', 'Peter']\n",
    "\n",
    "for user in users:\n",
    "    if user == 'admin':\n",
    "        print('Welcome, {}, do you have your special pass?'.format(user))\n",
    "    else:\n",
    "        print('Welcome, {}!'.format(user))"
   ]
  },
  {
   "cell_type": "code",
   "execution_count": 17,
   "metadata": {},
   "outputs": [
    {
     "name": "stdout",
     "output_type": "stream",
     "text": [
      "We need to get some users!\n"
     ]
    }
   ],
   "source": [
    "users = []\n",
    "\n",
    "if users:\n",
    "    for user in users:\n",
    "        if user == 'admin':\n",
    "            print('Welcome, {}, do you have your special pass?'.format(user))\n",
    "        else:\n",
    "            print('Welcome, {}!'.format(user))\n",
    "else:\n",
    "    print('We need to get some users!')"
   ]
  },
  {
   "cell_type": "code",
   "execution_count": 19,
   "metadata": {},
   "outputs": [
    {
     "name": "stdout",
     "output_type": "stream",
     "text": [
      "User user5 is created.\n",
      "user1 is already taken.\n",
      "User4 is already taken.\n"
     ]
    }
   ],
   "source": [
    "current_users = ['user1', 'user2', 'user3', 'user4']\n",
    "current_users_lower = [x.lower() for x in current_users]\n",
    "new_users = ['user5', 'user1', 'User4']\n",
    "\n",
    "for user in new_users:\n",
    "    if user.lower() in current_users:\n",
    "        print('{} is already taken.'.format(user))\n",
    "    else:\n",
    "        print('User {} is created.'.format(user))"
   ]
  },
  {
   "cell_type": "code",
   "execution_count": 21,
   "metadata": {},
   "outputs": [
    {
     "name": "stdout",
     "output_type": "stream",
     "text": [
      "1st\n",
      "2nd\n",
      "3rd\n",
      "4st\n",
      "5st\n",
      "6st\n",
      "7st\n",
      "8st\n",
      "9st\n"
     ]
    }
   ],
   "source": [
    "numbers = range(1, 10)\n",
    "\n",
    "for number in numbers:\n",
    "    if number == 1:\n",
    "        print('1st')\n",
    "    elif number == 2:\n",
    "        print('2nd')\n",
    "    elif number == 3:\n",
    "        print('3rd')\n",
    "    else:\n",
    "        print('{}st'.format(number))"
   ]
  },
  {
   "cell_type": "markdown",
   "metadata": {},
   "source": [
    "## Chapter 6"
   ]
  },
  {
   "cell_type": "code",
   "execution_count": 26,
   "metadata": {},
   "outputs": [
    {
     "name": "stdout",
     "output_type": "stream",
     "text": [
      "Name is Matas.\n",
      "Surname is Ziezys.\n",
      "Age is 9.\n",
      "City is Prague.\n"
     ]
    }
   ],
   "source": [
    "person_info = {\n",
    "    'name': 'Matas',\n",
    "    'surname': 'Ziezys',\n",
    "    'age': 9,\n",
    "    'city': 'Prague'\n",
    "}\n",
    "\n",
    "for key, value in person_info.items():\n",
    "    print('{} is {}.'.format(key.title(), value))"
   ]
  },
  {
   "cell_type": "code",
   "execution_count": 2,
   "metadata": {},
   "outputs": [
    {
     "name": "stdout",
     "output_type": "stream",
     "text": [
      "Sima's favourite number is 6.\n",
      "Gabe's favourite number is 5.\n",
      "Ondra's favourite number is 7.\n",
      "Matas's favourite number is 7.\n",
      "Juste's favourite number is 15.\n"
     ]
    }
   ],
   "source": [
    "favorite_numbers = {\n",
    "    'Sima': 6,\n",
    "    'Gabe': 5,\n",
    "    'Ondra': 7,\n",
    "    'Matas': 7,\n",
    "    'Juste': 15\n",
    "}\n",
    "\n",
    "for name, number in favorite_numbers.items():\n",
    "    print(\"{}'s favourite number is {}.\".format(name, number))"
   ]
  },
  {
   "cell_type": "code",
   "execution_count": 3,
   "metadata": {},
   "outputs": [
    {
     "name": "stdout",
     "output_type": "stream",
     "text": [
      "if:\n",
      " starts an if loop\n",
      "\n",
      "function:\n",
      " makes your code more readable and structured\n",
      "\n",
      "dictionary:\n",
      " python data structure\n",
      "\n"
     ]
    }
   ],
   "source": [
    "glossary = {\n",
    "    'if': 'starts an if loop',\n",
    "    'function': 'makes your code more readable and structured',\n",
    "    'dictionary': 'python data structure'\n",
    "}\n",
    "\n",
    "for word, explanation in glossary.items():\n",
    "    print('{}:\\n {}\\n'.format(word, explanation))"
   ]
  },
  {
   "cell_type": "code",
   "execution_count": 5,
   "metadata": {},
   "outputs": [
    {
     "name": "stdout",
     "output_type": "stream",
     "text": [
      "if:\n",
      " starts an if loop\n",
      "\n",
      "function:\n",
      " makes your code more readable and structured\n",
      "\n",
      "dictionary:\n",
      " python data structure\n",
      "\n"
     ]
    }
   ],
   "source": [
    "for word, explanation in zip(glossary.keys(), glossary.values()):\n",
    "    print('{}:\\n {}\\n'.format(word, explanation))"
   ]
  },
  {
   "cell_type": "code",
   "execution_count": 6,
   "metadata": {},
   "outputs": [
    {
     "name": "stdout",
     "output_type": "stream",
     "text": [
      "Nile runs in the Egypt.\n",
      "Amazon runs in the Brazil.\n",
      "Yangtze runs in the China.\n"
     ]
    }
   ],
   "source": [
    "rivers = {\n",
    "    'nile': 'egypt',\n",
    "    'amazon': 'brazil',\n",
    "    'yangtze': 'china'\n",
    "}\n",
    "\n",
    "for river, country in rivers.items():\n",
    "    print('{} runs in the {}.'.format(river.title(), country.title()))"
   ]
  },
  {
   "cell_type": "code",
   "execution_count": 7,
   "metadata": {},
   "outputs": [
    {
     "name": "stdout",
     "output_type": "stream",
     "text": [
      "Nile\n",
      "Amazon\n",
      "Yangtze\n"
     ]
    }
   ],
   "source": [
    "for river in rivers.keys():\n",
    "    print(river.title())"
   ]
  },
  {
   "cell_type": "code",
   "execution_count": 8,
   "metadata": {},
   "outputs": [
    {
     "name": "stdout",
     "output_type": "stream",
     "text": [
      "Egypt\n",
      "Brazil\n",
      "China\n"
     ]
    }
   ],
   "source": [
    "for country in rivers.values():\n",
    "    print(country.title())"
   ]
  },
  {
   "cell_type": "code",
   "execution_count": 13,
   "metadata": {},
   "outputs": [
    {
     "name": "stdout",
     "output_type": "stream",
     "text": [
      "Thank you for your response, Phil!\n",
      "Please take the poll, Ondra!\n",
      "Thank you for your response, Edward!\n"
     ]
    }
   ],
   "source": [
    "favorite_languages = {\n",
    "    'jen': 'python',\n",
    "    'sarah': 'c',\n",
    "    'edward': 'ruby',\n",
    "    'phil': 'python'\n",
    "}\n",
    "\n",
    "people_to_poll = ['Phil', 'Ondra', 'Edward']\n",
    "\n",
    "for person in people_to_poll:\n",
    "    if person.lower() in (favorite_languages.keys()):\n",
    "        print('Thank you for your response, {}!'.format(person.title()))\n",
    "    else:\n",
    "        print('Please take the poll, {}!'.format(person.title()))"
   ]
  },
  {
   "cell_type": "code",
   "execution_count": 17,
   "metadata": {},
   "outputs": [
    {
     "name": "stdout",
     "output_type": "stream",
     "text": [
      "\n",
      "MATAS:\n",
      "Name is Matas.\n",
      "Surname is Ziezys.\n",
      "Age is 9.\n",
      "City is Prague.\n",
      "\n",
      "SIMA:\n",
      "Name is Sima.\n",
      "Surname is Simonaite.\n",
      "Age is 26.\n",
      "City is Dresden.\n",
      "\n",
      "GABE:\n",
      "Name is Gabe.\n",
      "Surname is Gabute.\n",
      "Age is 30.\n",
      "City is Vilnius.\n"
     ]
    }
   ],
   "source": [
    "person_info_2 = {\n",
    "    'Matas': {\n",
    "        'name': 'Matas',\n",
    "        'surname': 'Ziezys',\n",
    "        'age': 9,\n",
    "        'city': 'Prague'\n",
    "    },\n",
    "    'Sima': {\n",
    "        'name': 'Sima',\n",
    "        'surname': 'Simonaite',\n",
    "        'age': 26,\n",
    "        'city' : 'Dresden'\n",
    "    },\n",
    "    'Gabe': {\n",
    "        'name': 'Gabe',\n",
    "        'surname': 'Gabute',\n",
    "        'age': 30,\n",
    "        'city' : 'Vilnius'\n",
    "    }  \n",
    "}\n",
    "\n",
    "for person, values in person_info_2.items():\n",
    "    print('\\n'+person.upper()+':')\n",
    "    for key, value in values.items():\n",
    "        print('{} is {}.'.format(key.title(), value))"
   ]
  },
  {
   "cell_type": "code",
   "execution_count": 22,
   "metadata": {},
   "outputs": [
    {
     "name": "stdout",
     "output_type": "stream",
     "text": [
      "Kind is dog.\n",
      "Owner is Sima.\n",
      "Kind is cat.\n",
      "Owner is Gabe.\n",
      "Kind is hamster.\n",
      "Owner is Matas.\n"
     ]
    }
   ],
   "source": [
    "dog = {\n",
    "    'kind': 'dog',\n",
    "    'owner': 'Sima'\n",
    "}\n",
    "\n",
    "cat = {\n",
    "    'kind': 'cat',\n",
    "    'owner': 'Gabe'\n",
    "}\n",
    "\n",
    "hamster = {\n",
    "    'kind': 'hamster',\n",
    "    'owner': 'Matas'\n",
    "}\n",
    "\n",
    "pet_list = [dog, cat, hamster]\n",
    "\n",
    "for pet in pet_list:\n",
    "    for key, value in pet.items():\n",
    "        print('{} is {}.'.format(key.title(), value))"
   ]
  },
  {
   "cell_type": "code",
   "execution_count": 24,
   "metadata": {},
   "outputs": [
    {
     "name": "stdout",
     "output_type": "stream",
     "text": [
      "\n",
      "Sima:\n",
      "Berlin\n",
      "Paris\n",
      "Vilnius\n",
      "\n",
      "Gabe:\n",
      "Trakai\n",
      "Palanga\n",
      "Nida\n",
      "\n",
      "Matas:\n",
      "Praha\n",
      "Vilnius\n",
      "Palanga\n"
     ]
    }
   ],
   "source": [
    "favorite_places = {\n",
    "    'sima': ['berlin', 'paris', 'vilnius'],\n",
    "    'gabe': ['trakai', 'palanga', 'nida'],\n",
    "    'matas': ['praha', 'vilnius', 'palanga']\n",
    "}\n",
    "\n",
    "for person, places in favorite_places.items():\n",
    "    print('\\n'+person.title()+\":\")\n",
    "    for place in places:\n",
    "        print(place.title())"
   ]
  },
  {
   "cell_type": "code",
   "execution_count": 27,
   "metadata": {},
   "outputs": [
    {
     "name": "stdout",
     "output_type": "stream",
     "text": [
      "\n",
      "Sima:\n",
      "6\n",
      "\n",
      "Gabe:\n",
      "5\n",
      "2\n",
      "\n",
      "Ondra:\n",
      "7\n",
      "\n",
      "Matas:\n",
      "2\n",
      "7\n",
      "\n",
      "Juste:\n",
      "15\n"
     ]
    }
   ],
   "source": [
    "favorite_numbers_2 = {\n",
    "    'Sima': [6],\n",
    "    'Gabe': [5, 2],\n",
    "    'Ondra': [7],\n",
    "    'Matas': [2, 7],\n",
    "    'Juste': [15]\n",
    "}\n",
    "\n",
    "for person, numbers in favorite_numbers_2.items():\n",
    "    print('\\n'+person+':')\n",
    "    for number in numbers:\n",
    "        print(number)"
   ]
  },
  {
   "cell_type": "code",
   "execution_count": 29,
   "metadata": {},
   "outputs": [
    {
     "name": "stdout",
     "output_type": "stream",
     "text": [
      "\n",
      "VILNIUS:\n",
      "Country: Lithuania\n",
      "Population: 587581\n",
      "Fact: There is the best pink soup ever.\n",
      "\n",
      "PRAGUE:\n",
      "Country: Czech Republic\n",
      "Population: 1309000\n",
      "Fact: I am living there.\n",
      "\n",
      "PARIS:\n",
      "Country: France\n",
      "Population: 2148271\n",
      "Fact: City of love.\n"
     ]
    }
   ],
   "source": [
    "cities = {\n",
    "    'vilnius': {\n",
    "        'country': 'Lithuania',\n",
    "        'population': 587581,\n",
    "        'fact': 'There is the best pink soup ever.'\n",
    "    },\n",
    "    'prague': {\n",
    "        'country': 'Czech Republic',\n",
    "        'population': 1309000,\n",
    "        'fact': 'I am living there.'\n",
    "    },\n",
    "    'paris': {\n",
    "        'country': 'France',\n",
    "        'population': 2148271,\n",
    "        'fact': 'City of love.'\n",
    "    }\n",
    "}\n",
    "\n",
    "for city, info in cities.items():\n",
    "    print('\\n'+city.upper()+':')\n",
    "    for key, value in info.items():\n",
    "        print('{}: {}'.format(key.title(), value))"
   ]
  }
 ],
 "metadata": {
  "kernelspec": {
   "display_name": "Python 3",
   "language": "python",
   "name": "python3"
  },
  "language_info": {
   "codemirror_mode": {
    "name": "ipython",
    "version": 3
   },
   "file_extension": ".py",
   "mimetype": "text/x-python",
   "name": "python",
   "nbconvert_exporter": "python",
   "pygments_lexer": "ipython3",
   "version": "3.8.5"
  }
 },
 "nbformat": 4,
 "nbformat_minor": 4
}
