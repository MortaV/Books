{
 "cells": [
  {
   "cell_type": "markdown",
   "metadata": {},
   "source": [
    "## Chapter 7"
   ]
  },
  {
   "cell_type": "code",
   "execution_count": 7,
   "metadata": {},
   "outputs": [
    {
     "data": {
      "text/plain": [
       "'m'"
      ]
     },
     "execution_count": 7,
     "metadata": {},
     "output_type": "execute_result"
    }
   ],
   "source": [
    "car = input(\"Please tell me your favourite car:\")\n",
    "\n",
    "print('Let me see if I can find a {}'.format(car.title()))"
   ]
  },
  {
   "cell_type": "code",
   "execution_count": null,
   "metadata": {},
   "outputs": [],
   "source": [
    "guests = input(\"How many people will be dining today?\")\n",
    "guests = int(guests)\n",
    "\n",
    "if guests>8:\n",
    "    print('You will have to wait.')\n",
    "else:\n",
    "    print('Your table is ready!')"
   ]
  },
  {
   "cell_type": "code",
   "execution_count": null,
   "metadata": {},
   "outputs": [],
   "source": [
    "number = input(\"Tell me a number :)\")\n",
    "number = int(number)\n",
    "\n",
    "if number%10 == 0:\n",
    "    print('It is a multiple of 10!')\n",
    "else:\n",
    "    print('It is not a multiple of 10.')"
   ]
  },
  {
   "cell_type": "code",
   "execution_count": null,
   "metadata": {},
   "outputs": [],
   "source": [
    "prompt = '\\nEnter a pizza topping '\n",
    "prompt += '\\n(If you want to exit, enter \"quit\"): '\n",
    "\n",
    "while True:\n",
    "    pizza_topping = input(prompt)\n",
    "    \n",
    "    if pizza_topping == 'quit':\n",
    "        break\n",
    "    else:\n",
    "        print('Adding '+pizza_topping)"
   ]
  },
  {
   "cell_type": "code",
   "execution_count": null,
   "metadata": {},
   "outputs": [],
   "source": [
    "prompt = 'What is your age? '\n",
    "\n",
    "age = input(prompt)\n",
    "age = int(age)\n",
    "\n",
    "if age<3:\n",
    "    print('Your ticket is free.')\n",
    "elif age<=12:\n",
    "    print('Your ticket costs 10$.')\n",
    "elif age>12:\n",
    "    print('Your ticket costs 15$.')\n",
    "else:\n",
    "    print('Incorect age provided.')"
   ]
  },
  {
   "cell_type": "code",
   "execution_count": 3,
   "metadata": {},
   "outputs": [
    {
     "name": "stdout",
     "output_type": "stream",
     "text": [
      "I made you a pastrami sandwich.\n",
      "I made you a vegetarian sandwich.\n",
      "I made you a pastrami sandwich.\n",
      "I made you a pastrami sandwich.\n",
      "I made you a tuna sandwich.\n",
      "['pastrami', 'vegetarian', 'pastrami', 'pastrami', 'tuna']\n"
     ]
    }
   ],
   "source": [
    "sandwich_orders = ['tuna', 'pastrami', 'pastrami', 'vegetarian', 'pastrami']\n",
    "finished_sandwiches = []\n",
    "\n",
    "while sandwich_orders:\n",
    "    sandwich = sandwich_orders.pop()\n",
    "    print('I made you a {} sandwich.'.format(sandwich))\n",
    "    finished_sandwiches.append(sandwich)\n",
    "    \n",
    "print(finished_sandwiches)"
   ]
  },
  {
   "cell_type": "code",
   "execution_count": null,
   "metadata": {},
   "outputs": [],
   "source": []
  }
 ],
 "metadata": {
  "kernelspec": {
   "display_name": "Python 3",
   "language": "python",
   "name": "python3"
  },
  "language_info": {
   "codemirror_mode": {
    "name": "ipython",
    "version": 3
   },
   "file_extension": ".py",
   "mimetype": "text/x-python",
   "name": "python",
   "nbconvert_exporter": "python",
   "pygments_lexer": "ipython3",
   "version": "3.8.5"
  }
 },
 "nbformat": 4,
 "nbformat_minor": 4
}
