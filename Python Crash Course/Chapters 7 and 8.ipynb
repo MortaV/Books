{
 "cells": [
  {
   "cell_type": "markdown",
   "metadata": {},
   "source": [
    "## Chapter 7"
   ]
  },
  {
   "cell_type": "code",
   "execution_count": 7,
   "metadata": {},
   "outputs": [
    {
     "data": {
      "text/plain": [
       "'m'"
      ]
     },
     "execution_count": 7,
     "metadata": {},
     "output_type": "execute_result"
    }
   ],
   "source": [
    "car = input(\"Please tell me your favourite car:\")\n",
    "\n",
    "print('Let me see if I can find a {}'.format(car.title()))"
   ]
  },
  {
   "cell_type": "code",
   "execution_count": null,
   "metadata": {},
   "outputs": [],
   "source": [
    "guests = input(\"How many people will be dining today?\")\n",
    "guests = int(guests)\n",
    "\n",
    "if guests>8:\n",
    "    print('You will have to wait.')\n",
    "else:\n",
    "    print('Your table is ready!')"
   ]
  },
  {
   "cell_type": "code",
   "execution_count": null,
   "metadata": {},
   "outputs": [],
   "source": [
    "number = input(\"Tell me a number :)\")\n",
    "number = int(number)\n",
    "\n",
    "if number%10 == 0:\n",
    "    print('It is a multiple of 10!')\n",
    "else:\n",
    "    print('It is not a multiple of 10.')"
   ]
  },
  {
   "cell_type": "code",
   "execution_count": null,
   "metadata": {},
   "outputs": [],
   "source": [
    "prompt = '\\nEnter a pizza topping '\n",
    "prompt += '\\n(If you want to exit, enter \"quit\"): '\n",
    "\n",
    "while True:\n",
    "    pizza_topping = input(prompt)\n",
    "    \n",
    "    if pizza_topping == 'quit':\n",
    "        break\n",
    "    else:\n",
    "        print('Adding '+pizza_topping)"
   ]
  },
  {
   "cell_type": "code",
   "execution_count": null,
   "metadata": {},
   "outputs": [],
   "source": [
    "prompt = 'What is your age? '\n",
    "\n",
    "age = input(prompt)\n",
    "age = int(age)\n",
    "\n",
    "if age<3:\n",
    "    print('Your ticket is free.')\n",
    "elif age<=12:\n",
    "    print('Your ticket costs 10$.')\n",
    "elif age>12:\n",
    "    print('Your ticket costs 15$.')\n",
    "else:\n",
    "    print('Incorect age provided.')"
   ]
  },
  {
   "cell_type": "code",
   "execution_count": 3,
   "metadata": {},
   "outputs": [
    {
     "name": "stdout",
     "output_type": "stream",
     "text": [
      "I made you a pastrami sandwich.\n",
      "I made you a vegetarian sandwich.\n",
      "I made you a pastrami sandwich.\n",
      "I made you a pastrami sandwich.\n",
      "I made you a tuna sandwich.\n",
      "['pastrami', 'vegetarian', 'pastrami', 'pastrami', 'tuna']\n"
     ]
    }
   ],
   "source": [
    "sandwich_orders = ['tuna', 'pastrami', 'pastrami', 'vegetarian', 'pastrami']\n",
    "finished_sandwiches = []\n",
    "\n",
    "while sandwich_orders:\n",
    "    sandwich = sandwich_orders.pop()\n",
    "    print('I made you a {} sandwich.'.format(sandwich))\n",
    "    finished_sandwiches.append(sandwich)\n",
    "    \n",
    "print(finished_sandwiches)"
   ]
  },
  {
   "cell_type": "code",
   "execution_count": 6,
   "metadata": {},
   "outputs": [
    {
     "name": "stdout",
     "output_type": "stream",
     "text": [
      "There is no pastrami left!\n",
      "['vegetarian', 'tuna']\n"
     ]
    }
   ],
   "source": [
    "sandwich_orders = ['tuna', 'pastrami', 'pastrami', 'vegetarian', 'pastrami']\n",
    "finished_sandwiches = []\n",
    "\n",
    "print('There is no pastrami left!')\n",
    "\n",
    "while sandwich_orders:\n",
    "    sandwich = sandwich_orders.pop()\n",
    "    if sandwich != 'pastrami':\n",
    "        finished_sandwiches.append(sandwich)\n",
    "        \n",
    "print(finished_sandwiches)"
   ]
  },
  {
   "cell_type": "code",
   "execution_count": null,
   "metadata": {},
   "outputs": [],
   "source": [
    "prompt = 'If you had a chance to go anywhere, where would you go? '\n",
    "prompt += '\\n(write \"quit\" to exit)'\n",
    "country_list = []\n",
    "\n",
    "while True:\n",
    "    country = input(prompt)\n",
    "    if country == 'quit':\n",
    "        break\n",
    "    else:\n",
    "        country_list.append(country)\n",
    "\n",
    "print(country_list)"
   ]
  },
  {
   "cell_type": "markdown",
   "metadata": {},
   "source": [
    "## Chapter 8"
   ]
  },
  {
   "cell_type": "code",
   "execution_count": 7,
   "metadata": {},
   "outputs": [
    {
     "name": "stdout",
     "output_type": "stream",
     "text": [
      "I am learning how to write functions in this chapter.\n"
     ]
    }
   ],
   "source": [
    "def display_function():\n",
    "    print(\"I am learning how to write functions in this chapter.\")\n",
    "    \n",
    "display_function()"
   ]
  },
  {
   "cell_type": "code",
   "execution_count": 10,
   "metadata": {},
   "outputs": [
    {
     "name": "stdout",
     "output_type": "stream",
     "text": [
      "My favourite book of all is Lolita.\n"
     ]
    }
   ],
   "source": [
    "def favorite_book(title):\n",
    "    print('My favourite book of all is {}.'.format(title.title()))\n",
    "    \n",
    "favorite_book('lolita')"
   ]
  },
  {
   "cell_type": "code",
   "execution_count": 11,
   "metadata": {},
   "outputs": [
    {
     "name": "stdout",
     "output_type": "stream",
     "text": [
      "You will get a T-Shirt in size S, with a message \"Flower Power\".\n",
      "You will get a T-Shirt in size S, with a message \"Flower Power\".\n"
     ]
    }
   ],
   "source": [
    "def make_shirt(size, message):\n",
    "    print('You will get a T-Shirt in size {}, with a message \"{}\".'.format(size, message))\n",
    "    \n",
    "make_shirt('S', 'Flower Power')\n",
    "make_shirt(message='Flower Power', size='S')"
   ]
  },
  {
   "cell_type": "code",
   "execution_count": 12,
   "metadata": {},
   "outputs": [
    {
     "name": "stdout",
     "output_type": "stream",
     "text": [
      "You will get a T-Shirt in size L, with a message \"I love Python\".\n",
      "You will get a T-Shirt in size M, with a message \"I love Python\".\n",
      "You will get a T-Shirt in size S, with a message \"Flower Power\".\n"
     ]
    }
   ],
   "source": [
    "def make_shirt(size='L', message='I love Python'):\n",
    "    print('You will get a T-Shirt in size {}, with a message \"{}\".'.format(size, message))\n",
    "    \n",
    "make_shirt()\n",
    "make_shirt('M')\n",
    "make_shirt('S', 'Flower Power')"
   ]
  },
  {
   "cell_type": "code",
   "execution_count": 15,
   "metadata": {},
   "outputs": [
    {
     "name": "stdout",
     "output_type": "stream",
     "text": [
      "Berlin is in Germany.\n",
      "Paris is in France.\n"
     ]
    }
   ],
   "source": [
    "def describe_city(city, country = 'Germany'):\n",
    "    print('{} is in {}.'.format(city.title(), country.title()))\n",
    "    \n",
    "describe_city('Berlin')\n",
    "describe_city('Paris', 'France')"
   ]
  },
  {
   "cell_type": "code",
   "execution_count": 19,
   "metadata": {},
   "outputs": [
    {
     "name": "stdout",
     "output_type": "stream",
     "text": [
      "Berlin, Germany\n",
      "Paris, France\n",
      "Vilnius, Lithuania\n"
     ]
    }
   ],
   "source": [
    "def city_country(city, country):\n",
    "    city_country_joined = (city.title(), country.title())\n",
    "    return ', '.join(city_country_joined)\n",
    "\n",
    "print(city_country('berlin', 'germany'))\n",
    "print(city_country('paris', 'france'))\n",
    "print(city_country('vilnius', 'lithuania'))"
   ]
  },
  {
   "cell_type": "code",
   "execution_count": 20,
   "metadata": {},
   "outputs": [
    {
     "name": "stdout",
     "output_type": "stream",
     "text": [
      "{'artist': 'Artist 1', 'album': 'Album 1'}\n",
      "{'artist': 'Artist 2', 'album': 'Album 2', 'number_of_songs': 20}\n"
     ]
    }
   ],
   "source": [
    "def make_album(artist, album, number_of_songs=None):\n",
    "    albums = {\n",
    "        'artist': artist,\n",
    "        'album': album\n",
    "    }\n",
    "    if number_of_songs:\n",
    "        albums['number_of_songs'] = number_of_songs\n",
    "        \n",
    "    return albums\n",
    "\n",
    "print(make_album('Artist 1', 'Album 1'))\n",
    "print(make_album('Artist 2', 'Album 2', 20))"
   ]
  },
  {
   "cell_type": "code",
   "execution_count": null,
   "metadata": {},
   "outputs": [],
   "source": [
    "prompt = 'Please provide artist and album (separated by comma) '\n",
    "prompt += '\\n(write \"quit\" to exit)'\n",
    "albums_list = []\n",
    "\n",
    "def make_album(artist, album):\n",
    "    albums = {\n",
    "        'artist': artist,\n",
    "        'album': album\n",
    "    }\n",
    "        \n",
    "    return albums\n",
    "\n",
    "while True:\n",
    "    artist_album = input(prompt)\n",
    "    if artist_album == 'quit':\n",
    "        break\n",
    "    else:\n",
    "        artist, album = artist_album.split(',')\n",
    "        albums_list.append(make_album(artist, album))\n",
    "\n",
    "print(albums_list)"
   ]
  },
  {
   "cell_type": "code",
   "execution_count": 23,
   "metadata": {},
   "outputs": [
    {
     "name": "stdout",
     "output_type": "stream",
     "text": [
      "Message one\n",
      "Message two\n",
      "Message three\n"
     ]
    }
   ],
   "source": [
    "message_list = ['Message one', 'Message two', 'Message three']\n",
    "\n",
    "def show_messages(messages):\n",
    "    for message in messages:\n",
    "        print(message)\n",
    "        \n",
    "show_messages(message_list)"
   ]
  },
  {
   "cell_type": "code",
   "execution_count": 25,
   "metadata": {},
   "outputs": [
    {
     "name": "stdout",
     "output_type": "stream",
     "text": [
      "Message three\n",
      "Message two\n",
      "Message one\n",
      "[]\n",
      "['Message three', 'Message two', 'Message one']\n"
     ]
    }
   ],
   "source": [
    "message_list = ['Message one', 'Message two', 'Message three']\n",
    "printed_messages = []\n",
    "\n",
    "def send_messages(messages):\n",
    "    while messages:\n",
    "        message = messages.pop()\n",
    "        print(message)\n",
    "        printed_messages.append(message)\n",
    "        \n",
    "send_messages(message_list)\n",
    "print(message_list)\n",
    "print(printed_messages)"
   ]
  },
  {
   "cell_type": "code",
   "execution_count": 26,
   "metadata": {},
   "outputs": [
    {
     "name": "stdout",
     "output_type": "stream",
     "text": [
      "Message three\n",
      "Message two\n",
      "Message one\n",
      "['Message one', 'Message two', 'Message three']\n",
      "['Message three', 'Message two', 'Message one']\n"
     ]
    }
   ],
   "source": [
    "message_list = ['Message one', 'Message two', 'Message three']\n",
    "printed_messages = []\n",
    "\n",
    "def send_messages(messages):\n",
    "    while messages:\n",
    "        message = messages.pop()\n",
    "        print(message)\n",
    "        printed_messages.append(message)\n",
    "        \n",
    "send_messages(message_list[:])\n",
    "print(message_list)\n",
    "print(printed_messages)"
   ]
  },
  {
   "cell_type": "code",
   "execution_count": 27,
   "metadata": {},
   "outputs": [
    {
     "name": "stdout",
     "output_type": "stream",
     "text": [
      "\n",
      "You will get a sandwich with:\n",
      "- ham\n",
      "- cheese\n",
      "\n",
      "You will get a sandwich with:\n",
      "- salami\n",
      "- gouda\n",
      "- tomatoes\n"
     ]
    }
   ],
   "source": [
    "def list_sandwiches(*ingredients):\n",
    "    print('\\nYou will get a sandwich with:')\n",
    "    \n",
    "    for ingredient in ingredients:\n",
    "        print(f'- {ingredient}')\n",
    "        \n",
    "list_sandwiches('ham', 'cheese')\n",
    "list_sandwiches('salami', 'gouda', 'tomatoes')"
   ]
  },
  {
   "cell_type": "code",
   "execution_count": 31,
   "metadata": {},
   "outputs": [
    {
     "name": "stdout",
     "output_type": "stream",
     "text": [
      "{'location': 'prague', 'field': 'DS', 'food': 'ice-cream', 'first_name': 'morta', 'last_name': 'vilkaite'}\n"
     ]
    }
   ],
   "source": [
    "def build_profile(first, last, **user_info):\n",
    "    \"\"\"Build a dictionary containing everything we know about a user.\"\"\"\n",
    "    user_info['first_name'] = first\n",
    "    user_info['last_name'] = last\n",
    "    \n",
    "    return user_info\n",
    "\n",
    "user_profile = build_profile('morta', 'vilkaite', location='prague', field='DS', food='ice-cream')\n",
    "\n",
    "print(user_profile)"
   ]
  },
  {
   "cell_type": "code",
   "execution_count": 33,
   "metadata": {},
   "outputs": [
    {
     "name": "stdout",
     "output_type": "stream",
     "text": [
      "{'color': 'blue', 'tow_package': True, 'manufacturer': 'subaru', 'model': 'outback'}\n"
     ]
    }
   ],
   "source": [
    "def make_car(manufacturer, model, **car_info):\n",
    "    car_info['manufacturer'] = manufacturer\n",
    "    car_info['model'] = model\n",
    "    \n",
    "    return car_info\n",
    "    \n",
    "    \n",
    "car = make_car('subaru', 'outback', color='blue', tow_package=True)\n",
    "print(car)"
   ]
  }
 ],
 "metadata": {
  "kernelspec": {
   "display_name": "Python 3",
   "language": "python",
   "name": "python3"
  },
  "language_info": {
   "codemirror_mode": {
    "name": "ipython",
    "version": 3
   },
   "file_extension": ".py",
   "mimetype": "text/x-python",
   "name": "python",
   "nbconvert_exporter": "python",
   "pygments_lexer": "ipython3",
   "version": "3.7.4"
  }
 },
 "nbformat": 4,
 "nbformat_minor": 4
}
